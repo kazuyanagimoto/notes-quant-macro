{
 "cells": [
  {
   "cell_type": "markdown",
   "metadata": {
    "id": "w0MMpJ7vW2tq"
   },
   "source": [
    "# Life Cycle Model with Numba\n",
    "#### Kazuharu Yanagimoto"
   ]
  },
  {
   "cell_type": "code",
   "execution_count": 1,
   "metadata": {},
   "outputs": [
    {
     "data": {
      "text/plain": [
       "'January 7, 2022'"
      ]
     },
     "execution_count": 1,
     "metadata": {},
     "output_type": "execute_result"
    }
   ],
   "source": [
    "import datetime; datetime.datetime.now().strftime('%B %-d, %Y')"
   ]
  },
  {
   "cell_type": "code",
   "execution_count": 2,
   "metadata": {
    "colab": {
     "base_uri": "https://localhost:8080/"
    },
    "id": "R7v_J_V8XVKg",
    "outputId": "ee5cb53b-f92c-456b-d409-3ace526b9f39"
   },
   "outputs": [],
   "source": [
    "import numpy as np\n",
    "from numba import njit, int64, float64, prange, get_num_threads\n",
    "from numba.experimental import jitclass\n",
    "from quantecon.markov.approximation import tauchen\n",
    "from matplotlib import pyplot as plt"
   ]
  },
  {
   "cell_type": "markdown",
   "metadata": {},
   "source": [
    "## Model\n",
    "This note examines the model of [Parallel Computing](https://github.com/davidzarruk/Parallel_Computing/).\n",
    "\n",
    "For $t = 1, \\dots, T$, households solve\n",
    "\n",
    "$$\\begin{aligned}\n",
    "V(t, e, x) =& \\max_{c, x'} \\frac{c^{1 - \\sigma}}{1 - \\sigma} + \\beta \\mathbb{E}V(t + 1, e', x') \\\\\n",
    "&\\text{s.t. } \\\\\n",
    "& c + x' \\le (1 + r)x + ew \\\\\n",
    "& \\text{Pr}(e' | e) = \\Gamma(e) \\\\\n",
    "& x' \\ge 0\n",
    "\\end{aligned}$$"
   ]
  },
  {
   "cell_type": "code",
   "execution_count": 3,
   "metadata": {
    "id": "y2tLmzX_mtfE"
   },
   "outputs": [],
   "source": [
    "# Grid for x\n",
    "n_x = 1500\n",
    "x_min = 0.1\n",
    "x_max = 4.0\n",
    "x_grid = np.linspace(x_min, x_max, num=n_x, dtype=np.float64)\n",
    "\n",
    "# Grid for e\n",
    "n_e = 15\n",
    "ssigma_eps = 0.02058\n",
    "lambda_eps = 0.99\n",
    "m = 1.5\n",
    "mc = tauchen(lambda_eps, ssigma_eps, 0.0, m, n_e)\n",
    "e_grid, P = np.exp(mc.state_values), mc.P\n",
    "\n",
    "# Utility function\n",
    "ssigma = 2.0\n",
    "bbeta = 0.97\n",
    "T = 10\n",
    "\n",
    "# Prices\n",
    "r = 0.07\n",
    "w = 5.0"
   ]
  },
  {
   "cell_type": "code",
   "execution_count": 4,
   "metadata": {
    "id": "IYnFJUQAXguW"
   },
   "outputs": [],
   "source": [
    "specs = [\n",
    "        ('n_x', int64),\n",
    "        ('x_grid', float64[:]),\n",
    "        ('n_e', int64),\n",
    "        ('e_grid', float64[:]),\n",
    "        ('P', float64[:, :]),\n",
    "        ('ssigma', float64),\n",
    "        ('bbeta', float64),\n",
    "        ('T', int64),\n",
    "        ('r', float64),\n",
    "        ('w', float64)\n",
    "]"
   ]
  },
  {
   "cell_type": "code",
   "execution_count": 5,
   "metadata": {
    "id": "SplRS-TQZy-1"
   },
   "outputs": [],
   "source": [
    "@jitclass(specs)\n",
    "class States(object):\n",
    "    def __init__(self,\n",
    "                 n_x = n_x,\n",
    "                 x_grid = x_grid,\n",
    "                 n_e = n_e,\n",
    "                 e_grid = e_grid,\n",
    "                 P = P,\n",
    "                 ssigma = ssigma,\n",
    "                 bbeta = bbeta,\n",
    "                 T = T,\n",
    "                 r = r,\n",
    "                 w = w):\n",
    "\n",
    "        self.n_x = n_x\n",
    "        self.n_e = n_e\n",
    "\n",
    "        # Grid for x\n",
    "        self.x_grid = x_grid\n",
    "\n",
    "        # Grid for e\n",
    "        \n",
    "        self.e_grid, self.P = e_grid, P\n",
    "\n",
    "        # Utility function\n",
    "        self.ssigma = ssigma\n",
    "        self.bbeta = bbeta\n",
    "        self.T = T\n",
    "\n",
    "        # Prices\n",
    "        self.r = r\n",
    "        self.w = w"
   ]
  },
  {
   "cell_type": "code",
   "execution_count": 6,
   "metadata": {
    "id": "ue2HJjLsaA-g"
   },
   "outputs": [],
   "source": [
    "@njit\n",
    "def solve_single(states:States):\n",
    "\n",
    "    n_x = states.n_x\n",
    "    n_e = states.n_e\n",
    "    x_grid = states.x_grid\n",
    "    e_grid = states.e_grid\n",
    "    P = states.P\n",
    "    ssigma = states.ssigma\n",
    "    bbeta = states.bbeta\n",
    "    T = states.T\n",
    "    r = states.r\n",
    "    w = states.w\n",
    "\n",
    "    V = np.zeros((n_x, n_e, T), dtype=np.float64)\n",
    "\n",
    "    for t in range(T-1, -1, -1):\n",
    "        for ix in range(n_x):\n",
    "            for ie in range(n_e):\n",
    "\n",
    "                utility = -np.inf\n",
    "                for ixp in range(n_x):\n",
    "\n",
    "                    expected = np.float64(0)\n",
    "                    if t < (T-1):\n",
    "                        for iep in range(n_e):\n",
    "                            expected += P[ie, iep] * V[ixp, iep, t+1]\n",
    "\n",
    "                    c = (1 + r) * x_grid[ix] + e_grid[ie] * w - x_grid[ixp]\n",
    "\n",
    "                    if c > 0:\n",
    "                        utility = max((c ** (1 - ssigma)) / (1 - ssigma) + bbeta * expected, utility)\n",
    "\n",
    "                V[ix, ie, t] = utility\n",
    "    \n",
    "    return V"
   ]
  },
  {
   "cell_type": "code",
   "execution_count": 7,
   "metadata": {
    "id": "DeOV0JAb9jmg"
   },
   "outputs": [],
   "source": [
    "@njit(parallel=True)\n",
    "def solve_threads(states:States):\n",
    "\n",
    "    n_x = states.n_x\n",
    "    n_e = states.n_e\n",
    "    x_grid = states.x_grid\n",
    "    e_grid = states.e_grid\n",
    "    P = states.P\n",
    "    ssigma = states.ssigma\n",
    "    bbeta = states.bbeta\n",
    "    T = states.T\n",
    "    r = states.r\n",
    "    w = states.w\n",
    "\n",
    "    V = np.zeros((n_x, n_e, T), dtype=np.float64)\n",
    "\n",
    "    for t in range(T-1, -1, -1):\n",
    "        for i in prange(n_x * n_e):\n",
    "            ix = i // n_e\n",
    "            ie = i % n_e\n",
    "\n",
    "            utility = -np.inf\n",
    "            for ixp in range(n_x):\n",
    "\n",
    "                expected = np.float64(0)\n",
    "                if t < (T-1):\n",
    "                    for iep in range(n_e):\n",
    "                        expected += P[ie, iep] * V[ixp, iep, t+1]\n",
    "\n",
    "                c = (1 + r) * x_grid[ix] + e_grid[ie] * w - x_grid[ixp]\n",
    "\n",
    "                if c > 0:\n",
    "                    utility = max((c ** (1 - ssigma)) / (1 - ssigma) + bbeta * expected, utility)\n",
    "\n",
    "            V[ix, ie, t] = utility\n",
    "    \n",
    "    return V"
   ]
  },
  {
   "cell_type": "markdown",
   "metadata": {
    "id": "jL9zHkzo5N3r"
   },
   "source": [
    "## Test"
   ]
  },
  {
   "cell_type": "code",
   "execution_count": 8,
   "metadata": {
    "id": "6PBczrkldFQ2"
   },
   "outputs": [],
   "source": [
    "states = States()"
   ]
  },
  {
   "cell_type": "code",
   "execution_count": 9,
   "metadata": {
    "id": "Q22CnApRl5BA"
   },
   "outputs": [],
   "source": [
    "V = solve_single(states)"
   ]
  },
  {
   "cell_type": "code",
   "execution_count": 10,
   "metadata": {
    "colab": {
     "base_uri": "https://localhost:8080/",
     "height": 444
    },
    "id": "y8leyPRWpL7j",
    "outputId": "ef7f439c-bcab-4b4d-8f03-121be30839f0"
   },
   "outputs": [
    {
     "data": {
      "image/png": "[encoded data removed]",
      "text/plain": [
       "<Figure size 792x504 with 4 Axes>"
      ]
     },
     "metadata": {
      "needs_background": "light"
     },
     "output_type": "display_data"
    }
   ],
   "source": [
    "fig, axs = plt.subplots(2, 2, figsize = (11, 7))\n",
    "\n",
    "for i in range(2):\n",
    "  for j in range(2):\n",
    "    t = [[0, 3], [6, 9]][i][j]\n",
    "    axs[i, j].plot(states.x_grid, V[:, 0, t], label = r\"$e_1$\")\n",
    "    axs[i, j].plot(states.x_grid, V[:, 7, t], label = r\"$e_8$\")\n",
    "    axs[i, j].plot(states.x_grid, V[:, 14, t], label = r\"$e_{15}$\")\n",
    "    axs[i, j].legend(loc = \"lower right\")\n",
    "    axs[i, j].set_title(f\"t = {t+1}\")\n",
    "\n",
    "plt.show()"
   ]
  },
  {
   "cell_type": "code",
   "execution_count": 11,
   "metadata": {
    "colab": {
     "base_uri": "https://localhost:8080/"
    },
    "id": "_il-N6FhrvIl",
    "outputId": "77e9670c-9f4f-4061-b7b4-68f1feae81bc"
   },
   "outputs": [
    {
     "data": {
      "text/plain": [
       "True"
      ]
     },
     "execution_count": 11,
     "metadata": {},
     "output_type": "execute_result"
    }
   ],
   "source": [
    " np.all(V == solve_threads(states)) # equivalence check"
   ]
  },
  {
   "cell_type": "markdown",
   "metadata": {
    "id": "eZSvaLNg5Wuw"
   },
   "source": [
    "## Benchmark"
   ]
  },
  {
   "cell_type": "code",
   "execution_count": 12,
   "metadata": {
    "colab": {
     "base_uri": "https://localhost:8080/"
    },
    "id": "bUQMOTJK5YDK",
    "outputId": "9467b469-81cd-4655-ebf0-70c868f355f3"
   },
   "outputs": [
    {
     "name": "stdout",
     "output_type": "stream",
     "text": [
      "9.95 s ± 32.6 ms per loop (mean ± std. dev. of 7 runs, 1 loop each)\n"
     ]
    }
   ],
   "source": [
    "%timeit V = solve_single(states)"
   ]
  },
  {
   "cell_type": "code",
   "execution_count": 13,
   "metadata": {
    "colab": {
     "base_uri": "https://localhost:8080/"
    },
    "id": "S1g5gRsSAMdk",
    "outputId": "c6bd1dac-027e-4d51-c023-44a6badbba20"
   },
   "outputs": [
    {
     "data": {
      "text/plain": [
       "12"
      ]
     },
     "execution_count": 13,
     "metadata": {},
     "output_type": "execute_result"
    }
   ],
   "source": [
    "get_num_threads() # Num of the phisical cores are the half"
   ]
  },
  {
   "cell_type": "code",
   "execution_count": 14,
   "metadata": {
    "colab": {
     "base_uri": "https://localhost:8080/"
    },
    "id": "4rBLRrH_6sLs",
    "outputId": "4898ac7e-5a49-4cc9-a645-c813b69b656e",
    "scrolled": true
   },
   "outputs": [
    {
     "name": "stdout",
     "output_type": "stream",
     "text": [
      "1.38 s ± 33.1 ms per loop (mean ± std. dev. of 7 runs, 1 loop each)\n"
     ]
    }
   ],
   "source": [
    "%timeit V = solve_threads(states)"
   ]
  }
 ],
 "metadata": {
  "colab": {
   "name": "life_cycle_numba.ipynb",
   "provenance": []
  },
  "kernelspec": {
   "display_name": "Python 3 (ipykernel)",
   "language": "python",
   "name": "python3"
  },
  "language_info": {
   "codemirror_mode": {
    "name": "ipython",
    "version": 3
   },
   "file_extension": ".py",
   "mimetype": "text/x-python",
   "name": "python",
   "nbconvert_exporter": "python",
   "pygments_lexer": "ipython3",
   "version": "3.9.7"
  }
 },
 "nbformat": 4,
 "nbformat_minor": 4
}
