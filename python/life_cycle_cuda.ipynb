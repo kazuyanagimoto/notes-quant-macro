{
 "cells": [
  {
   "cell_type": "markdown",
   "metadata": {
    "colab_type": "text",
    "id": "view-in-github"
   },
   "source": [
    "<a href=\"https://colab.research.google.com/github/nicetak/notes-quant-macro/blob/main/python/life_cycle_cuda.ipynb\" target=\"_parent\"><img src=\"https://colab.research.google.com/assets/colab-badge.svg\" alt=\"Open In Colab\"/></a>"
   ]
  },
  {
   "cell_type": "markdown",
   "metadata": {
    "id": "w0MMpJ7vW2tq"
   },
   "source": [
    "# Life Cycle Model with CUDA\n",
    "#### Kazuharu Yanagimoto"
   ]
  },
  {
   "cell_type": "code",
   "execution_count": 1,
   "metadata": {
    "colab": {
     "base_uri": "https://localhost:8080/",
     "height": 35
    },
    "id": "bxjw6GbQgpGp",
    "outputId": "922f1a4d-07c1-4b8b-c797-2756ff2b5458"
   },
   "outputs": [
    {
     "data": {
      "application/vnd.google.colaboratory.intrinsic+json": {
       "type": "string"
      },
      "text/plain": [
       "'January 7, 2022'"
      ]
     },
     "execution_count": 1,
     "metadata": {},
     "output_type": "execute_result"
    }
   ],
   "source": [
    "import datetime; datetime.datetime.now().strftime('%B %-d, %Y')"
   ]
  },
  {
   "cell_type": "code",
   "execution_count": null,
   "metadata": {
    "id": "bfAks6OiW6qi"
   },
   "outputs": [],
   "source": [
    "!pip3 install QuantEcon"
   ]
  },
  {
   "cell_type": "code",
   "execution_count": 3,
   "metadata": {
    "colab": {
     "base_uri": "https://localhost:8080/"
    },
    "id": "R7v_J_V8XVKg",
    "outputId": "b106d9f2-9798-4dbf-a4fd-61ca02c74b06"
   },
   "outputs": [
    {
     "name": "stderr",
     "output_type": "stream",
     "text": [
      "/usr/local/lib/python3.7/dist-packages/numba/np/ufunc/parallel.py:363: NumbaWarning: The TBB threading layer requires TBB version 2019.5 or later i.e., TBB_INTERFACE_VERSION >= 11005. Found TBB_INTERFACE_VERSION = 9107. The TBB threading layer is disabled.\n",
      "  warnings.warn(problem)\n"
     ]
    }
   ],
   "source": [
    "import math\n",
    "import numpy as np\n",
    "from numba import cuda, njit\n",
    "from quantecon.markov.approximation import tauchen\n",
    "from matplotlib import pyplot as plt"
   ]
  },
  {
   "cell_type": "markdown",
   "metadata": {
    "id": "-C72E3ceiRcI"
   },
   "source": [
    "## Model\n",
    "This note examines the model of [Parallel Computing](https://github.com/davidzarruk/Parallel_Computing/).\n",
    "\n",
    "For $t = 1, \\dots, T$, households solve\n",
    "\n",
    "$$\\begin{aligned}\n",
    "V(t, e, x) =& \\max_{c, x'} \\frac{c^{1 - \\sigma}}{1 - \\sigma} + \\beta \\mathbb{E}V(t + 1, e', x') \\\\\n",
    "&\\text{s.t. } \\\\\n",
    "& c + x' \\le (1 + r)x + ew \\\\\n",
    "& \\text{Pr}(e' | e) = \\Gamma(e) \\\\\n",
    "& x' \\ge 0\n",
    "\\end{aligned}$$"
   ]
  },
  {
   "cell_type": "code",
   "execution_count": 4,
   "metadata": {
    "id": "x4UPJi7Rg0Ce"
   },
   "outputs": [],
   "source": [
    "# Grid for x\n",
    "n_x = 1500\n",
    "x_min = 0.1\n",
    "x_max = 4.0\n",
    "x_grid = np.linspace(x_min, x_max, num=n_x, dtype=np.float64)\n",
    "\n",
    "# Grid for e\n",
    "n_e = 15\n",
    "ssigma_eps = 0.02058\n",
    "lambda_eps = 0.99\n",
    "m = 1.5\n",
    "mc = tauchen(lambda_eps, ssigma_eps, 0.0, m, n_e)\n",
    "e_grid, P = np.exp(mc.state_values), mc.P\n",
    "\n",
    "# Utility function\n",
    "ssigma = 2.0\n",
    "bbeta = 0.97\n",
    "T = 10\n",
    "\n",
    "# Prices\n",
    "r = 0.07\n",
    "w = 5.0"
   ]
  },
  {
   "cell_type": "code",
   "execution_count": 5,
   "metadata": {
    "id": "ue2HJjLsaA-g"
   },
   "outputs": [],
   "source": [
    "@cuda.jit\n",
    "def step(t, x_grid, e_grid, P, ssigma, bbeta, r, w, V):\n",
    "    \n",
    "    n_x = V.shape[0]\n",
    "    n_e = V.shape[1]\n",
    "    T = V.shape[2]\n",
    "\n",
    "    ix, ie = cuda.grid(2)\n",
    "    if ix < n_x and ie < n_e:\n",
    "\n",
    "        utility = -np.inf\n",
    "        for ixp in range(n_x):\n",
    "\n",
    "            expected = np.float64(0)\n",
    "            if t < (T-1):\n",
    "                for iep in range(n_e):\n",
    "                    expected += P[ie, iep] * V[ixp, iep, t+1]\n",
    "\n",
    "            c = (1 + r) * x_grid[ix] + e_grid[ie] * w - x_grid[ixp]\n",
    "\n",
    "            if c > 0:\n",
    "                utility = max((c ** (1 - ssigma)) / (1 - ssigma) + bbeta * expected, utility)\n",
    "\n",
    "        V[ix, ie, t] = utility\n",
    "\n",
    "def solve_cuda(n_x, x_grid, n_e, e_grid, P, ssigma, bbeta, T, r, w):\n",
    "    \n",
    "    V = np.zeros((n_x, n_e, T), dtype = np.float64)\n",
    "    for t in range(T-1, -1, -1):\n",
    "        step[blocks_per_grid, threads_per_block](t, x_grid, e_grid, P, ssigma, bbeta, r, w, V)\n",
    "\n",
    "    return V"
   ]
  },
  {
   "cell_type": "code",
   "execution_count": 6,
   "metadata": {
    "id": "u--DhysC-xDu"
   },
   "outputs": [],
   "source": [
    "@njit\n",
    "def solve_cpu(n_x, x_grid, n_e, e_grid, P, ssigma, bbeta, T, r, w):\n",
    "\n",
    "    V = np.zeros((n_x, n_e, T), dtype=np.float64)\n",
    "\n",
    "    for t in range(T-1, -1, -1):\n",
    "        for ix in range(n_x):\n",
    "            for ie in range(n_e):\n",
    "\n",
    "                utility = -np.inf\n",
    "                for ixp in range(n_x):\n",
    "\n",
    "                    expected = np.float64(0)\n",
    "                    if t < (T-1):\n",
    "                        for iep in range(n_e):\n",
    "                            expected += P[ie, iep] * V[ixp, iep, t+1]\n",
    "\n",
    "                    c = (1 + r) * x_grid[ix] + e_grid[ie] * w - x_grid[ixp]\n",
    "\n",
    "                    if c > 0:\n",
    "                        utility = max((c ** (1 - ssigma)) / (1 - ssigma) + bbeta * expected, utility)\n",
    "\n",
    "                V[ix, ie, t] = utility\n",
    "    \n",
    "    return V"
   ]
  },
  {
   "cell_type": "markdown",
   "metadata": {
    "id": "jL9zHkzo5N3r"
   },
   "source": [
    "## Test"
   ]
  },
  {
   "cell_type": "code",
   "execution_count": 7,
   "metadata": {
    "id": "Q22CnApRl5BA"
   },
   "outputs": [],
   "source": [
    "threads_per_block = (16, 16)\n",
    "block_x = math.ceil(n_x/ threads_per_block[0])\n",
    "block_y = math.ceil(n_e/ threads_per_block[1])\n",
    "blocks_per_grid= (block_x, block_y)\n",
    "\n",
    "V_cuda = solve_cuda(n_x, x_grid, n_e, e_grid, P, ssigma, bbeta, T, r, w)"
   ]
  },
  {
   "cell_type": "code",
   "execution_count": 8,
   "metadata": {
    "colab": {
     "base_uri": "https://localhost:8080/",
     "height": 444
    },
    "id": "y8leyPRWpL7j",
    "outputId": "d8ad56fb-0380-4a88-8f2c-460257fc8a61"
   },
   "outputs": [
    {
     "data": {
      "image/png": "[encoded data removed]",
      "text/plain": [
       "<Figure size 792x504 with 4 Axes>"
      ]
     },
     "metadata": {
      "needs_background": "light"
     },
     "output_type": "display_data"
    }
   ],
   "source": [
    "fig, axs = plt.subplots(2, 2, figsize = (11, 7))\n",
    "\n",
    "for i in range(2):\n",
    "  for j in range(2):\n",
    "    t = [[0, 3], [6, 9]][i][j]\n",
    "    axs[i, j].plot(x_grid, V_cuda[:, 0, t], label = r\"$e_1$\")\n",
    "    axs[i, j].plot(x_grid, V_cuda[:, 7, t], label = r\"$e_8$\")\n",
    "    axs[i, j].plot(x_grid, V_cuda[:, 14, t], label = r\"$e_{15}$\")\n",
    "    axs[i, j].legend(loc = \"lower right\")\n",
    "    axs[i, j].set_title(f\"t = {t+1}\")\n",
    "\n",
    "plt.show()"
   ]
  },
  {
   "cell_type": "code",
   "execution_count": 9,
   "metadata": {
    "id": "PRZwriQK_ZyK"
   },
   "outputs": [],
   "source": [
    "V_cpu = solve_cpu(n_x, x_grid, n_e, e_grid, P, ssigma, bbeta, T, r, w)"
   ]
  },
  {
   "cell_type": "code",
   "execution_count": 10,
   "metadata": {
    "colab": {
     "base_uri": "https://localhost:8080/"
    },
    "id": "1vIne_kr_oR2",
    "outputId": "4a851bdb-317c-42f2-a08f-edac130bd685"
   },
   "outputs": [
    {
     "data": {
      "text/plain": [
       "True"
      ]
     },
     "execution_count": 10,
     "metadata": {},
     "output_type": "execute_result"
    }
   ],
   "source": [
    "np.all(np.isclose(V_cuda, V_cpu)) # Equivalence Check"
   ]
  },
  {
   "cell_type": "markdown",
   "metadata": {
    "id": "eZSvaLNg5Wuw"
   },
   "source": [
    "## Benchmark"
   ]
  },
  {
   "cell_type": "code",
   "execution_count": 11,
   "metadata": {
    "colab": {
     "base_uri": "https://localhost:8080/"
    },
    "id": "4rBLRrH_6sLs",
    "outputId": "f5045ac6-7fa7-4e2d-afb4-11f462fdd612"
   },
   "outputs": [
    {
     "name": "stdout",
     "output_type": "stream",
     "text": [
      "1 loop, best of 5: 509 ms per loop\n"
     ]
    }
   ],
   "source": [
    "%timeit solve_cuda(n_x, x_grid, n_e, e_grid, P, ssigma, bbeta, T, r, w)"
   ]
  },
  {
   "cell_type": "code",
   "execution_count": 12,
   "metadata": {
    "colab": {
     "base_uri": "https://localhost:8080/"
    },
    "id": "vGDLJudqLdnb",
    "outputId": "8dc133ea-b6fd-4949-a8fe-5fd5331c490b"
   },
   "outputs": [
    {
     "name": "stdout",
     "output_type": "stream",
     "text": [
      "1 loop, best of 5: 12 s per loop\n"
     ]
    }
   ],
   "source": [
    "%timeit V_cpu = solve_cpu(n_x, x_grid, n_e, e_grid, P, ssigma, bbeta, T, r, w)"
   ]
  },
  {
   "cell_type": "code",
   "execution_count": 12,
   "metadata": {
    "id": "ZuoluX11h0JL"
   },
   "outputs": [],
   "source": []
  }
 ],
 "metadata": {
  "accelerator": "GPU",
  "colab": {
   "authorship_tag": "ABX9TyM1Zyu93+M/t8yf0JNvdg+h",
   "collapsed_sections": [],
   "include_colab_link": true,
   "name": "life_cycle_cuda.ipynb",
   "provenance": []
  },
  "kernelspec": {
   "display_name": "Python 3 (ipykernel)",
   "language": "python",
   "name": "python3"
  },
  "language_info": {
   "codemirror_mode": {
    "name": "ipython",
    "version": 3
   },
   "file_extension": ".py",
   "mimetype": "text/x-python",
   "name": "python",
   "nbconvert_exporter": "python",
   "pygments_lexer": "ipython3",
   "version": "3.9.7"
  }
 },
 "nbformat": 4,
 "nbformat_minor": 4
}
